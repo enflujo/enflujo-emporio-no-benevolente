{
 "cells": [
  {
   "cell_type": "markdown",
   "metadata": {},
   "source": [
    "## Instalar dependencias"
   ]
  },
  {
   "cell_type": "code",
   "execution_count": null,
   "metadata": {},
   "outputs": [],
   "source": [
    "%pip install -q mediapipe\n",
    "%pip install opencv-python\n",
    "%pip install numpy\n",
    "%pip install tqdm"
   ]
  },
  {
   "cell_type": "markdown",
   "metadata": {},
   "source": [
    "## Descargar modelo\n",
    "\n",
    "En Unix se puede correr el siguiente comando. En Windows (sin wget) toca descargar el modelo de la URL y poner el archivo en la carpeta `./modelos`"
   ]
  },
  {
   "cell_type": "code",
   "execution_count": null,
   "metadata": {},
   "outputs": [],
   "source": [
    "!wget -q -O ./modelos/efficientdet_lite0.tflite -q https://storage.googleapis.com/mediapipe-models/object_detector/efficientdet_lite0/int8/1/efficientdet_lite0.tflite"
   ]
  },
  {
   "cell_type": "markdown",
   "metadata": {},
   "source": [
    "## Procesar video y exportar .json"
   ]
  },
  {
   "cell_type": "code",
   "execution_count": null,
   "metadata": {},
   "outputs": [
    {
     "name": "stdout",
     "output_type": "stream",
     "text": [
      "640 480\n"
     ]
    },
    {
     "name": "stderr",
     "output_type": "stream",
     "text": [
      "  0%|          | 0/19331 [00:00<?, ?it/s]c:\\Users\\enflujo\\lab\\enflujo-emporio-no-benevolente\\.venv\\lib\\site-packages\\google\\protobuf\\symbol_database.py:55: UserWarning: SymbolDatabase.GetPrototype() is deprecated. Please use message_factory.GetMessageClass() instead. SymbolDatabase.GetPrototype() will be removed soon.\n",
      "  warnings.warn('SymbolDatabase.GetPrototype() is deprecated. Please '\n",
      "  0%|          | 1/19331 [00:00<43:44,  7.37it/s]"
     ]
    },
    {
     "name": "stdout",
     "output_type": "stream",
     "text": [
      "20.0 19331\n"
     ]
    },
    {
     "name": "stderr",
     "output_type": "stream",
     "text": [
      " 15%|█▍        | 2835/19331 [02:43<17:12, 15.97it/s]"
     ]
    }
   ],
   "source": [
    "import mediapipe as mp\n",
    "from mediapipe.tasks.python import vision\n",
    "from mediapipe.tasks.python import BaseOptions\n",
    "import cv2\n",
    "import json\n",
    "from tqdm import tqdm\n",
    "\n",
    "opciones = vision.ObjectDetectorOptions(\n",
    "    base_options=BaseOptions(model_asset_path='./modelos/efficientdet_lite0.tflite'),\n",
    "    max_results=5,\n",
    "    score_threshold=0.5,\n",
    "    running_mode=vision.RunningMode.VIDEO)\n",
    "\n",
    "modelo = vision.ObjectDetector.create_from_options(opciones)\n",
    "\n",
    "nombre_archivo = '0013';\n",
    "\n",
    "video = cv2.VideoCapture('./estaticos/videos/' + nombre_archivo + '.mp4')\n",
    "ancho_video = int(video.get(cv2.CAP_PROP_FRAME_WIDTH))\n",
    "alto_video = int(video.get(cv2.CAP_PROP_FRAME_HEIGHT))\n",
    "total_fotogramas = int(video.get(cv2.CAP_PROP_FRAME_COUNT))\n",
    "fps = video.get(cv2.CAP_PROP_FPS)\n",
    "print(ancho_video, alto_video)\n",
    "\n",
    "apariciones = []\n",
    "barra = tqdm(total=total_fotogramas);\n",
    "print(fps, total_fotogramas)\n",
    "\n",
    "for i in range(total_fotogramas):\n",
    "    respuesta, fotograma = video.read()\n",
    "    \n",
    "    if respuesta == False:\n",
    "        break\n",
    "    \n",
    "    fotograma_rgb = cv2.cvtColor(fotograma, cv2.COLOR_BGR2RGB)\n",
    "    fotograma_rgb = mp.Image(image_format=mp.ImageFormat.SRGB, data=fotograma_rgb)\n",
    "    milisegundos = int(1000 * i / fps)\n",
    "    \n",
    "    # Detectar objetos\n",
    "    resultados = modelo.detect_for_video(fotograma_rgb, milisegundos)\n",
    "    \n",
    "    for prediccion in resultados.detections:\n",
    "        cuadro = prediccion.bounding_box\n",
    "        x, y, ancho, alto = cuadro.origin_x, cuadro.origin_y, cuadro.width, cuadro.height\n",
    "        categoria = prediccion.categories[0]\n",
    "        confianza = categoria.score * 100\n",
    "        nombre = categoria.category_name\n",
    "        apariciones.append({nombre, milisegundos, x, y, ancho, alto, confianza})\n",
    "        cv2.rectangle(fotograma, (x, y), (x + ancho, y - 30), (100, 255, 0), -1)\n",
    "        cv2.rectangle(fotograma, (x, y), (x + ancho, y + alto), (100, 255, 0), 2)\n",
    "        cv2.putText(fotograma, f\"{nombre} {confianza:.2f}%\", (x + 5, y - 5), cv2.FONT_HERSHEY_SIMPLEX, 0.5, (255, 255, 255), 2)\n",
    "    \n",
    "    cv2.imshow('Video', fotograma)\n",
    "\n",
    "    barra.update(i - barra.n)\n",
    "    # print(i)\n",
    "    if cv2.waitKey(25) & 0xFF == ord('q'):\n",
    "        break\n",
    "\n",
    "video.release()\n",
    "cv2.destroyAllWindows()\n",
    "\n",
    "datos = json.dumps({'video': nombre_archivo, 'ancho': ancho_video, 'alto': alto_video, 'fps': fps, 'apariciones': apariciones}, separators=(',', \":\"))\n",
    "\n",
    "with open('estaticos/datos/' + nombre_archivo + '.json', 'w') as outfile:\n",
    "    outfile.write(datos)\n",
    "\n",
    "barra.close()"
   ]
  }
 ],
 "metadata": {
  "kernelspec": {
   "display_name": ".venv",
   "language": "python",
   "name": "python3"
  },
  "language_info": {
   "codemirror_mode": {
    "name": "ipython",
    "version": 3
   },
   "file_extension": ".py",
   "mimetype": "text/x-python",
   "name": "python",
   "nbconvert_exporter": "python",
   "pygments_lexer": "ipython3",
   "version": "3.9.13"
  }
 },
 "nbformat": 4,
 "nbformat_minor": 2
}
